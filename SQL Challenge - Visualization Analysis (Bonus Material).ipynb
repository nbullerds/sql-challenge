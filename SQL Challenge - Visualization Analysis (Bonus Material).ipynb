{
 "cells": [
  {
   "cell_type": "code",
   "execution_count": 57,
   "metadata": {
    "scrolled": true
   },
   "outputs": [],
   "source": [
    "import pandas as pd\n",
    "import matplotlib.pyplot as plt\n",
    "import numpy as np\n",
    "from config import (user, password, host, port, database)"
   ]
  },
  {
   "cell_type": "code",
   "execution_count": 2,
   "metadata": {},
   "outputs": [],
   "source": [
    "# Create sqlalchemy engine for our database\n",
    "from sqlalchemy import create_engine, inspect\n",
    "engine = create_engine(f'postgresql://{user}:{password}@{host}:{port}/{database}')\n",
    "connection = engine.connect()"
   ]
  },
  {
   "cell_type": "code",
   "execution_count": 4,
   "metadata": {},
   "outputs": [
    {
     "data": {
      "text/html": [
       "<div>\n",
       "<style scoped>\n",
       "    .dataframe tbody tr th:only-of-type {\n",
       "        vertical-align: middle;\n",
       "    }\n",
       "\n",
       "    .dataframe tbody tr th {\n",
       "        vertical-align: top;\n",
       "    }\n",
       "\n",
       "    .dataframe thead th {\n",
       "        text-align: right;\n",
       "    }\n",
       "</style>\n",
       "<table border=\"1\" class=\"dataframe\">\n",
       "  <thead>\n",
       "    <tr style=\"text-align: right;\">\n",
       "      <th></th>\n",
       "      <th>emp_no</th>\n",
       "      <th>title</th>\n",
       "      <th>birth_date</th>\n",
       "      <th>first_name</th>\n",
       "      <th>last_name</th>\n",
       "      <th>sex</th>\n",
       "      <th>hire_date</th>\n",
       "      <th>salary</th>\n",
       "    </tr>\n",
       "  </thead>\n",
       "  <tbody>\n",
       "    <tr>\n",
       "      <th>0</th>\n",
       "      <td>57444</td>\n",
       "      <td>Engineer</td>\n",
       "      <td>1958-01-30</td>\n",
       "      <td>Berry</td>\n",
       "      <td>Babb</td>\n",
       "      <td>F</td>\n",
       "      <td>1992-03-21</td>\n",
       "      <td>48973</td>\n",
       "    </tr>\n",
       "    <tr>\n",
       "      <th>1</th>\n",
       "      <td>13616</td>\n",
       "      <td>Senior Engineer</td>\n",
       "      <td>1961-08-30</td>\n",
       "      <td>Perry</td>\n",
       "      <td>Lorho</td>\n",
       "      <td>F</td>\n",
       "      <td>1991-08-03</td>\n",
       "      <td>40000</td>\n",
       "    </tr>\n",
       "    <tr>\n",
       "      <th>2</th>\n",
       "      <td>240129</td>\n",
       "      <td>Technique Leader</td>\n",
       "      <td>1952-08-11</td>\n",
       "      <td>Roddy</td>\n",
       "      <td>Karnin</td>\n",
       "      <td>M</td>\n",
       "      <td>1985-05-29</td>\n",
       "      <td>43548</td>\n",
       "    </tr>\n",
       "    <tr>\n",
       "      <th>3</th>\n",
       "      <td>427958</td>\n",
       "      <td>Staff</td>\n",
       "      <td>1957-05-03</td>\n",
       "      <td>Feixiong</td>\n",
       "      <td>Poujol</td>\n",
       "      <td>F</td>\n",
       "      <td>1985-05-11</td>\n",
       "      <td>63377</td>\n",
       "    </tr>\n",
       "    <tr>\n",
       "      <th>4</th>\n",
       "      <td>35916</td>\n",
       "      <td>Senior Engineer</td>\n",
       "      <td>1953-08-15</td>\n",
       "      <td>Wonhee</td>\n",
       "      <td>Talmon</td>\n",
       "      <td>F</td>\n",
       "      <td>1985-03-20</td>\n",
       "      <td>40000</td>\n",
       "    </tr>\n",
       "  </tbody>\n",
       "</table>\n",
       "</div>"
      ],
      "text/plain": [
       "   emp_no             title  birth_date first_name last_name sex   hire_date  \\\n",
       "0   57444          Engineer  1958-01-30      Berry      Babb   F  1992-03-21   \n",
       "1   13616   Senior Engineer  1961-08-30      Perry     Lorho   F  1991-08-03   \n",
       "2  240129  Technique Leader  1952-08-11      Roddy    Karnin   M  1985-05-29   \n",
       "3  427958             Staff  1957-05-03   Feixiong    Poujol   F  1985-05-11   \n",
       "4   35916   Senior Engineer  1953-08-15     Wonhee    Talmon   F  1985-03-20   \n",
       "\n",
       "   salary  \n",
       "0   48973  \n",
       "1   40000  \n",
       "2   43548  \n",
       "3   63377  \n",
       "4   40000  "
      ]
     },
     "execution_count": 4,
     "metadata": {},
     "output_type": "execute_result"
    }
   ],
   "source": [
    "# Create DF using sqlalchemy engine and display resulting df for reference\n",
    "df = pd.read_sql_query('SELECT * FROM employees', con = engine)\n",
    "df.head()"
   ]
  },
  {
   "cell_type": "markdown",
   "metadata": {},
   "source": [
    "# Most common salary ranges for employees"
   ]
  },
  {
   "cell_type": "code",
   "execution_count": 116,
   "metadata": {},
   "outputs": [
    {
     "name": "stdout",
     "output_type": "stream",
     "text": [
      "Minimum Employee Salary: 40000\n",
      "Maximum Employee Salary: 129492\n"
     ]
    }
   ],
   "source": [
    "# find min and max salary and display\n",
    "salary_min = df['salary'].min()\n",
    "salary_max = df['salary'].max()\n",
    "print(f\"Minimum Employee Salary: {salary_min}\")\n",
    "print(f\"Maximum Employee Salary: {salary_max}\")"
   ]
  },
  {
   "cell_type": "code",
   "execution_count": 62,
   "metadata": {},
   "outputs": [
    {
     "data": {
      "text/html": [
       "<div>\n",
       "<style scoped>\n",
       "    .dataframe tbody tr th:only-of-type {\n",
       "        vertical-align: middle;\n",
       "    }\n",
       "\n",
       "    .dataframe tbody tr th {\n",
       "        vertical-align: top;\n",
       "    }\n",
       "\n",
       "    .dataframe thead th {\n",
       "        text-align: right;\n",
       "    }\n",
       "</style>\n",
       "<table border=\"1\" class=\"dataframe\">\n",
       "  <thead>\n",
       "    <tr style=\"text-align: right;\">\n",
       "      <th></th>\n",
       "      <th>index</th>\n",
       "      <th>bin</th>\n",
       "    </tr>\n",
       "  </thead>\n",
       "  <tbody>\n",
       "    <tr>\n",
       "      <th>0</th>\n",
       "      <td>$20000 - 50000</td>\n",
       "      <td>158472</td>\n",
       "    </tr>\n",
       "    <tr>\n",
       "      <th>1</th>\n",
       "      <td>$50000 - 70000</td>\n",
       "      <td>99322</td>\n",
       "    </tr>\n",
       "    <tr>\n",
       "      <th>2</th>\n",
       "      <td>$70000 - 90000</td>\n",
       "      <td>36658</td>\n",
       "    </tr>\n",
       "    <tr>\n",
       "      <th>3</th>\n",
       "      <td>$90000 - 130000</td>\n",
       "      <td>5572</td>\n",
       "    </tr>\n",
       "  </tbody>\n",
       "</table>\n",
       "</div>"
      ],
      "text/plain": [
       "             index     bin\n",
       "0   $20000 - 50000  158472\n",
       "1   $50000 - 70000   99322\n",
       "2   $70000 - 90000   36658\n",
       "3  $90000 - 130000    5572"
      ]
     },
     "execution_count": 62,
     "metadata": {},
     "output_type": "execute_result"
    }
   ],
   "source": [
    "# Create bins for salary ranges\n",
    "df['bin'] = pd.cut(df['salary'], [20000, 50000, 70000, 90000, 130000])\n",
    "\n",
    "# Create salary count df based on bin values\n",
    "salary_count = df['bin'].value_counts()\n",
    "salary_count_df = salary_count.to_frame()\n",
    "salary_count_df.reset_index(level=0, inplace=True)\n",
    "\n",
    "# Clean up index look for visualization\n",
    "salary_count_df['index'] = salary_count_df['index'].astype(str)\n",
    "salary_count_df['index'] = salary_count_df['index'].str.replace('(','$')\n",
    "salary_count_df['index'] = salary_count_df['index'].str.replace(', ',' - ')\n",
    "salary_count_df['index'] = salary_count_df['index'].str.replace(']','')\n",
    "salary_count_df"
   ]
  },
  {
   "cell_type": "code",
   "execution_count": 73,
   "metadata": {},
   "outputs": [
    {
     "data": {
      "image/png": "[encoded data removed]",
      "text/plain": [
       "<Figure size 432x288 with 1 Axes>"
      ]
     },
     "metadata": {
      "needs_background": "light"
     },
     "output_type": "display_data"
    }
   ],
   "source": [
    "# Set tick marks\n",
    "x_axis = np.arange(len(salary_count))\n",
    "tick_locations = [value for value in x_axis]\n",
    "\n",
    "# Create bar chart using pandas with proper readability\n",
    "plt.bar(x_axis, salary_count, align='center', label='Number of Employees')\n",
    "plt.xticks(tick_locations, salary_count_df['index'], rotation=20)\n",
    "plt.yticks(np.arange(0, salary_count_df['bin'].max(), 50000))\n",
    "\n",
    "# Set a Title and labels\n",
    "plt.title(\"Employee Count by Salary Range\")\n",
    "plt.xlabel(\"Salary Range\")\n",
    "plt.grid(zorder=0)\n",
    "\n",
    "# Add legend\n",
    "plt.legend(loc='upper right')\n",
    "\n",
    "plt.show()"
   ]
  },
  {
   "cell_type": "markdown",
   "metadata": {},
   "source": [
    "# Average salary by employee title"
   ]
  },
  {
   "cell_type": "code",
   "execution_count": 115,
   "metadata": {},
   "outputs": [],
   "source": [
    "# Create df grouped by employee title\n",
    "title_group = df.groupby(['title'])\n",
    "title_group_df = title_group[['salary']].mean().round(decimals=2)"
   ]
  },
  {
   "cell_type": "code",
   "execution_count": 114,
   "metadata": {},
   "outputs": [
    {
     "data": {
      "image/png": "[encoded data removed]",
      "text/plain": [
       "<Figure size 432x288 with 1 Axes>"
      ]
     },
     "metadata": {
      "needs_background": "light"
     },
     "output_type": "display_data"
    }
   ],
   "source": [
    "# Set tick marks\n",
    "x_axis = np.arange(title_group_df['salary'].count())\n",
    "tick_locations = [value for value in x_axis]\n",
    "\n",
    "# Create bar chart using pandas with proper readability\n",
    "plt.bar(x_axis, title_group_df['salary'], align='center', label='Average Salary')\n",
    "plt.xticks(tick_locations, title_group_df.index.tolist(), rotation=50)\n",
    "plt.yticks(np.arange(0, title_group_df['salary'].max()+5000, 5000))\n",
    "plt.ylim(salary_min)\n",
    "\n",
    "# Set a Title and labels\n",
    "plt.title(\"Average Salary by Employee Title\")\n",
    "plt.xlabel(\"Title\")\n",
    "plt.grid(zorder=0)\n",
    "\n",
    "# Add legend\n",
    "plt.legend(loc='upper left')\n",
    "\n",
    "plt.show()"
   ]
  }
 ],
 "metadata": {
  "kernelspec": {
   "display_name": "Python 3",
   "language": "python",
   "name": "python3"
  },
  "language_info": {
   "codemirror_mode": {
    "name": "ipython",
    "version": 3
   },
   "file_extension": ".py",
   "mimetype": "text/x-python",
   "name": "python",
   "nbconvert_exporter": "python",
   "pygments_lexer": "ipython3",
   "version": "3.6.10"
  }
 },
 "nbformat": 4,
 "nbformat_minor": 4
}
